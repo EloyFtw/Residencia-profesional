{
 "cells": [
  {
   "cell_type": "code",
   "execution_count": 1,
   "metadata": {},
   "outputs": [
    {
     "name": "stdout",
     "output_type": "stream",
     "text": [
      "hello world\n"
     ]
    }
   ],
   "source": [
    "print(\"hello world\")"
   ]
  },
  {
   "cell_type": "code",
   "execution_count": 2,
   "metadata": {},
   "outputs": [],
   "source": [
    "import torch\n",
    "\n",
    "COLORMAP = [[0, 0, 0], [128, 128, 128], [128, 0, 0], [0, 0, 128],  [128, 128, 0],  [0, 128, 0], [192, 0, 0], [128, 0, 128], [0,192,0], [0,0,192]]\n",
    "\n",
    "CLASSES = ['fondo',    'conector',       'celular',   'plato',       'vaso',         'mesa',    'persona', 'herramienta', 'garrafon', 'obstaculo']\n",
    "\n",
    "def colormap2label():\n",
    "    colorlabel = torch.zeros(256 ** 3, dtype=torch.long)\n",
    "    for i, colormap in enumerate(COLORMAP):\n",
    "        colorlabel[(colormap[0] * 256 + colormap[1]) * 256 + colormap[2]] = i\n",
    "    return colorlabel\n",
    "\n",
    "def label_indices(colormap, colorlabel):\n",
    "    colormap = colormap.permute(1, 2, 0).numpy().astype('int32')\n",
    "    idx = ((colormap[:, :, 0] * 256 + colormap[:, :, 1]) * 256 + colormap[:, :, 2])\n",
    "    return colorlabel[idx]\n",
    "\n"
   ]
  },
  {
   "cell_type": "code",
   "execution_count": 3,
   "metadata": {},
   "outputs": [
    {
     "name": "stdout",
     "output_type": "stream",
     "text": [
      "7\n",
      "7\n"
     ]
    }
   ],
   "source": [
    "\n",
    "import torch\n",
    "import torchvision\n",
    "import os \n",
    "\n",
    "import shutil\n",
    "\n",
    "# Copia el archivo desde la ubicación actual a la\n",
    "# carpeta \"Documentos\".\n",
    "\n",
    "archivos =[archivo.split('.')[0] for archivo in os.listdir('./')]\n",
    "mascaras =[mascara.split('.')[0] for mascara in os.listdir('./')]\n",
    "\n",
    "print(len(archivos))\n",
    "\n",
    "print(len(archivos))\n"
   ]
  },
  {
   "cell_type": "code",
   "execution_count": null,
   "metadata": {},
   "outputs": [],
   "source": [
    "#Eliminar fotos que no se usaron\n",
    "i=0\n",
    "while i < len(archivos):\n",
    "    j=0\n",
    "    while j < len(mascaras):\n",
    "        if archivos[i]==mascaras[j]:\n",
    "            shutil.copy(\"ImagenesR/\"+archivos[i]+'.jpg', \"Imagenes/\"+archivos[i]+'.jpg')\n",
    "        j=j+1\n",
    "    i=i+1      \n"
   ]
  },
  {
   "cell_type": "code",
   "execution_count": null,
   "metadata": {},
   "outputs": [],
   "source": [
    "import torch\n",
    "import torchvision\n",
    "import os \n",
    "import numpy as np\n",
    "\n",
    "archivos =[archivo.split('.')[0] for archivo in os.listdir('./Imagenes/')]\n",
    "\n",
    "for archivo in archivos:\n",
    "    imagen=torchvision.io.read_image('./Imagenes/ImagenesR/'+archivo+'.jpg')\n",
    "    imagen=torchvision.transforms.functional.resize(imagen,(240,320))\n",
    "    torchvision.io.write_jpeg(imagen,'./ImagenesEscaladas/'+archivo+'.jpg')\n",
    "\n",
    "for archivo in archivos:\n",
    "    mascara=torchvision.io.read_image('./Mascara/'+archivo+'.png',torchvision.io.image.ImageReadMode.RGB)\n",
    "    mascara=torchvision.transforms.functional.resize(mascara,(240,320))\n",
    "    print(mascara)\n",
    "    for f in range(0,240): \n",
    "        for c in range(0,320): \n",
    "            if mascara[0][f][c]<64: \n",
    "                mascara[0][f][c]=0 \n",
    "            elif mascara[0][f][c]<160: \n",
    "                mascara[0][f][c]=128\n",
    "            else:\n",
    "                mascara[0][f][c]=192\n",
    "\n",
    "            if mascara[1][f][c]<64: \n",
    "                mascara[1][f][c]=0 \n",
    "            elif mascara[1][f][c]<160: \n",
    "                mascara[1][f][c]=128\n",
    "            else:\n",
    "                mascara[1][f][c]=192\n",
    "\n",
    "            if mascara[2][f][c]<64: \n",
    "                mascara[2][f][c]=0 \n",
    "            elif mascara[2][f][c]<160: \n",
    "                mascara[2][f][c]=128\n",
    "            else:\n",
    "                mascara[2][f][c]=192\n",
    "    print(mascara)\n",
    "    torchvision.io.write_png(mascara,'./MascarasEscaladas/'+archivo+'.png')"
   ]
  },
  {
   "cell_type": "code",
   "execution_count": 11,
   "metadata": {},
   "outputs": [],
   "source": [
    "# Para normalizar y generar número de clase en imagenes\n",
    "import torch\n",
    "import torchvision\n",
    "import os \n",
    "import numpy as np\n",
    "\n",
    "archivos =[archivo.split('.')[0] for archivo in os.listdir('./Imagenes/')]\n",
    "\n",
    "for archivo in archivos:\n",
    "    imagen=torchvision.io.read_image('./Imagenes/'+archivo+'.jpg')\n",
    "    imagen=imagen.float()/255\n",
    "    np.save('./Imagenes/'+archivo,imagen.numpy())\n",
    "\n",
    "colorlabel = colormap2label()\n",
    "for archivo in archivos:\n",
    "    mascara=torchvision.io.read_image('./Imagenes/'+archivo+'.png',torchvision.io.image.ImageReadMode.RGB)\n",
    "    mascara=label_indices(mascara,colorlabel)\n",
    "    np.save('./mask/'+archivo, mascara.numpy())\n",
    "\n"
   ]
  },
  {
   "cell_type": "code",
   "execution_count": 5,
   "metadata": {},
   "outputs": [],
   "source": [
    "# Para normalizar y generar número de clase en imagenes escaladas\n",
    "import torch\n",
    "import torchvision\n",
    "import os \n",
    "import numpy as np\n",
    "\n",
    "archivos =[archivo.split('.')[0] for archivo in os.listdir('./MascarasEscaladas')]\n",
    "\n",
    "for archivo in archivos:\n",
    "    imagen=torchvision.io.read_image('./ImagenesEscaladas/'+archivo+'.jpg')\n",
    "    imagen=imagen.float()/255\n",
    "    np.save('./DataSet/ImagenesPNpy/'+archivo,imagen.numpy())\n",
    "\n",
    "colorlabel = colormap2label()\n",
    "for archivo in archivos:\n",
    "    mascara=torchvision.io.read_image('./MascarasEscaladas/'+archivo+'.png',torchvision.io.image.ImageReadMode.RGB)\n",
    "    mascara=label_indices(mascara,colorlabel)\n",
    "    np.save('./DataSet/MascarasPNpy/'+archivo,mascara.numpy())"
   ]
  }
 ],
 "metadata": {
  "interpreter": {
   "hash": "31f2aee4e71d21fbe5cf8b01ff0e069b9275f58929596ceb00d14d90e3e16cd6"
  },
  "kernelspec": {
   "display_name": "Python 3.8.10 64-bit",
   "language": "python",
   "name": "python3"
  },
  "language_info": {
   "codemirror_mode": {
    "name": "ipython",
    "version": 3
   },
   "file_extension": ".py",
   "mimetype": "text/x-python",
   "name": "python",
   "nbconvert_exporter": "python",
   "pygments_lexer": "ipython3",
   "version": "3.8.10"
  },
  "orig_nbformat": 4
 },
 "nbformat": 4,
 "nbformat_minor": 2
}
